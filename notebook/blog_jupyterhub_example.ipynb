{
 "cells": [
  {
   "cell_type": "code",
   "execution_count": 1,
   "metadata": {},
   "outputs": [],
   "source": [
    "import sys\n",
    "from awsglue.transforms import *\n",
    "from awsglue.utils import getResolvedOptions\n",
    "from pyspark.context import SparkContext\n",
    "from awsglue.context import GlueContext\n",
    "from awsglue.job import Job\n",
    "\n",
    "glueContext = GlueContext(SparkContext.getOrCreate())"
   ]
  },
  {
   "cell_type": "code",
   "execution_count": 2,
   "metadata": {},
   "outputs": [
    {
     "name": "stdout",
     "output_type": "stream",
     "text": [
      "Count: 1961\n",
      "root\n",
      "|-- family_name: string\n",
      "|-- name: string\n",
      "|-- links: array\n",
      "|    |-- element: struct\n",
      "|    |    |-- note: string\n",
      "|    |    |-- url: string\n",
      "|-- gender: string\n",
      "|-- image: string\n",
      "|-- identifiers: array\n",
      "|    |-- element: struct\n",
      "|    |    |-- scheme: string\n",
      "|    |    |-- identifier: string\n",
      "|-- other_names: array\n",
      "|    |-- element: struct\n",
      "|    |    |-- lang: string\n",
      "|    |    |-- note: string\n",
      "|    |    |-- name: string\n",
      "|-- sort_name: string\n",
      "|-- images: array\n",
      "|    |-- element: struct\n",
      "|    |    |-- url: string\n",
      "|-- given_name: string\n",
      "|-- birth_date: string\n",
      "|-- id: string\n",
      "|-- contact_details: array\n",
      "|    |-- element: struct\n",
      "|    |    |-- type: string\n",
      "|    |    |-- value: string\n",
      "|-- death_date: string\n",
      "\n"
     ]
    }
   ],
   "source": [
    "persons = glueContext.create_dynamic_frame.from_catalog(\n",
    "             database=\"blogs_jupyter\",\n",
    "             table_name=\"persons\")\n",
    "print(\"Count: \" + str(persons.count()))\n",
    "persons.printSchema()"
   ]
  },
  {
   "cell_type": "code",
   "execution_count": 3,
   "metadata": {},
   "outputs": [
    {
     "name": "stdout",
     "output_type": "stream",
     "text": [
      "Count: 10439\n",
      "root\n",
      "|-- area_id: string\n",
      "|-- on_behalf_of_id: string\n",
      "|-- organization_id: string\n",
      "|-- role: string\n",
      "|-- person_id: string\n",
      "|-- legislative_period_id: string\n",
      "|-- start_date: string\n",
      "|-- end_date: string\n",
      "\n"
     ]
    }
   ],
   "source": [
    "memberships = glueContext.create_dynamic_frame.from_catalog(\n",
    "                 database=\"blogs_jupyter\",\n",
    "                 table_name=\"memberships\")\n",
    "print(\"Count: \" + str(memberships.count()))\n",
    "memberships.printSchema()"
   ]
  },
  {
   "cell_type": "code",
   "execution_count": 4,
   "metadata": {},
   "outputs": [
    {
     "name": "stdout",
     "output_type": "stream",
     "text": [
      "Count: 13\n",
      "root\n",
      "|-- identifiers: array\n",
      "|    |-- element: struct\n",
      "|    |    |-- scheme: string\n",
      "|    |    |-- identifier: string\n",
      "|-- other_names: array\n",
      "|    |-- element: struct\n",
      "|    |    |-- lang: string\n",
      "|    |    |-- note: string\n",
      "|    |    |-- name: string\n",
      "|-- id: string\n",
      "|-- classification: string\n",
      "|-- name: string\n",
      "|-- links: array\n",
      "|    |-- element: struct\n",
      "|    |    |-- note: string\n",
      "|    |    |-- url: string\n",
      "|-- image: string\n",
      "|-- seats: int\n",
      "|-- type: string\n",
      "\n"
     ]
    }
   ],
   "source": [
    "orgs = glueContext.create_dynamic_frame.from_catalog(\n",
    "           database=\"blogs_jupyter\",\n",
    "           table_name=\"organizations\")\n",
    "print(\"Count: \" + str(orgs.count()))\n",
    "orgs.printSchema()"
   ]
  },
  {
   "cell_type": "code",
   "execution_count": 5,
   "metadata": {},
   "outputs": [
    {
     "name": "stdout",
     "output_type": "stream",
     "text": [
      "+--------------+--------------------+--------------------+--------------------+--------------------+-----+-----------+\n",
      "|classification|              org_id|            org_name|               links|               image|seats|       type|\n",
      "+--------------+--------------------+--------------------+--------------------+--------------------+-----+-----------+\n",
      "|         party|            party/al|                  AL|                null|                null| null|       null|\n",
      "|         party|      party/democrat|            Democrat|[[website, http:/...|https://upload.wi...| null|       null|\n",
      "|         party|party/democrat-li...|    Democrat-Liberal|[[website, http:/...|                null| null|       null|\n",
      "|   legislature|d56acebe-8fdc-47b...|House of Represen...|                null|                null|  435|lower house|\n",
      "|         party|   party/independent|         Independent|                null|                null| null|       null|\n",
      "|         party|party/new_progres...|     New Progressive|[[website, http:/...|https://upload.wi...| null|       null|\n",
      "|         party|party/popular_dem...|    Popular Democrat|[[website, http:/...|                null| null|       null|\n",
      "|         party|    party/republican|          Republican|[[website, http:/...|https://upload.wi...| null|       null|\n",
      "|         party|party/republican-...|Republican-Conser...|[[website, http:/...|                null| null|       null|\n",
      "|         party|      party/democrat|            Democrat|[[website, http:/...|https://upload.wi...| null|       null|\n",
      "|         party|   party/independent|         Independent|                null|                null| null|       null|\n",
      "|         party|    party/republican|          Republican|[[website, http:/...|https://upload.wi...| null|       null|\n",
      "|   legislature|8fa6c3d2-71dc-478...|              Senate|                null|                null|  100|upper house|\n",
      "+--------------+--------------------+--------------------+--------------------+--------------------+-----+-----------+\n",
      "\n"
     ]
    }
   ],
   "source": [
    "orgs = orgs.drop_fields(['other_names',\n",
    "                        'identifiers']).rename_field(\n",
    "                            'id', 'org_id').rename_field(\n",
    "                               'name', 'org_name')\n",
    "orgs.toDF().show()"
   ]
  },
  {
   "cell_type": "code",
   "execution_count": 6,
   "metadata": {},
   "outputs": [
    {
     "name": "stdout",
     "output_type": "stream",
     "text": [
      "+--------------------+\n",
      "|     organization_id|\n",
      "+--------------------+\n",
      "|d56acebe-8fdc-47b...|\n",
      "|8fa6c3d2-71dc-478...|\n",
      "+--------------------+\n",
      "\n"
     ]
    }
   ],
   "source": [
    "memberships.select_fields(['organization_id']).toDF().distinct().show()"
   ]
  },
  {
   "cell_type": "code",
   "execution_count": 7,
   "metadata": {},
   "outputs": [
    {
     "name": "stdout",
     "output_type": "stream",
     "text": [
      "Count: 10439\n",
      "root\n",
      "|-- role: string\n",
      "|-- seats: int\n",
      "|-- org_name: string\n",
      "|-- links: array\n",
      "|    |-- element: struct\n",
      "|    |    |-- note: string\n",
      "|    |    |-- url: string\n",
      "|-- type: string\n",
      "|-- sort_name: string\n",
      "|-- area_id: string\n",
      "|-- images: array\n",
      "|    |-- element: struct\n",
      "|    |    |-- url: string\n",
      "|-- on_behalf_of_id: string\n",
      "|-- other_names: array\n",
      "|    |-- element: struct\n",
      "|    |    |-- lang: string\n",
      "|    |    |-- note: string\n",
      "|    |    |-- name: string\n",
      "|-- name: string\n",
      "|-- birth_date: string\n",
      "|-- organization_id: string\n",
      "|-- gender: string\n",
      "|-- classification: string\n",
      "|-- death_date: string\n",
      "|-- legislative_period_id: string\n",
      "|-- identifiers: array\n",
      "|    |-- element: struct\n",
      "|    |    |-- scheme: string\n",
      "|    |    |-- identifier: string\n",
      "|-- image: string\n",
      "|-- given_name: string\n",
      "|-- start_date: string\n",
      "|-- family_name: string\n",
      "|-- id: string\n",
      "|-- contact_details: array\n",
      "|    |-- element: struct\n",
      "|    |    |-- type: string\n",
      "|    |    |-- value: string\n",
      "|-- end_date: string\n",
      "\n"
     ]
    }
   ],
   "source": [
    "l_history = Join.apply(orgs,\n",
    "                       Join.apply(persons, memberships, 'id', 'person_id'),\n",
    "                       'org_id', 'organization_id').drop_fields(['person_id', 'org_id'])\n",
    "print (\"Count: \" + str(l_history.count()))\n",
    "l_history.printSchema()"
   ]
  },
  {
   "cell_type": "code",
   "execution_count": 8,
   "metadata": {},
   "outputs": [
    {
     "data": {
      "text/plain": [
       "<awsglue.dynamicframe.DynamicFrame at 0x7f26c8529250>"
      ]
     },
     "execution_count": 8,
     "metadata": {},
     "output_type": "execute_result"
    }
   ],
   "source": [
    "glueContext.write_dynamic_frame.from_options(frame = l_history,\n",
    "          connection_type = \"s3\",\n",
    "          connection_options = {\"path\": \"s3://< BUCKET NAME >/blog-jupyter/glue_output/legislator_history\"},\n",
    "          format = \"parquet\")"
   ]
  },
  {
   "cell_type": "code",
   "execution_count": null,
   "metadata": {},
   "outputs": [],
   "source": []
  }
 ],
 "metadata": {
  "kernelspec": {
   "display_name": "Glue PySpark",
   "language": "python",
   "name": "gluepyspark"
  },
  "language_info": {
   "codemirror_mode": {
    "name": "ipython",
    "version": 3
   },
   "file_extension": ".py",
   "mimetype": "text/x-python",
   "name": "python",
   "nbconvert_exporter": "python",
   "pygments_lexer": "ipython3",
   "version": "3.7.6"
  }
 },
 "nbformat": 4,
 "nbformat_minor": 4
}
